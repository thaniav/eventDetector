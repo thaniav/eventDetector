{
 "cells": [
  {
   "cell_type": "code",
   "execution_count": 20,
   "metadata": {},
   "outputs": [],
   "source": [
    "# All imports here \n",
    "\n",
    "import re\n",
    "import nltk\n",
    "from nltk.stem import WordNetLemmatizer\n",
    "from nltk.corpus import stopwords\n",
    "from nltk.tokenize import word_tokenize\n",
    "from nltk.corpus import wordnet\n",
    "from nltk.corpus import sentiwordnet as swn\n",
    "from nltk import pos_tag\n",
    "from nltk.corpus import stopwords\n",
    "from nltk.tokenize import word_tokenize\n",
    "from nltk.stem import PorterStemmer\n",
    "import pandas as pd\n",
    "import os\n",
    "import pandas as pd\n",
    "from nltk.corpus import stopwords \n",
    "from sklearn.feature_extraction.text import CountVectorizer\n",
    "from sklearn.feature_extraction.text import CountVectorizer\n",
    "from sklearn.decomposition import LatentDirichletAllocation\n",
    "from sklearn.feature_extraction.text import TfidfVectorizer\n",
    "from sklearn.cluster import KMeans\n",
    "from sklearn.cluster import KMeans\n",
    "from sklearn.metrics import accuracy_score, adjusted_rand_score, normalized_mutual_info_score, silhouette_score\n",
    "\n",
    "# imports for LDA\n",
    "from sklearn.feature_extraction.text import CountVectorizer\n",
    "from sklearn.decomposition import LatentDirichletAllocation\n",
    "from nltk.corpus import stopwords\n",
    "from gensim.corpora.dictionary import Dictionary\n",
    "from gensim.models.coherencemodel import CoherenceModel\n",
    "from nltk.tokenize import word_tokenize\n",
    "from gensim.models import LdaModel\n",
    "\n"
   ]
  },
  {
   "cell_type": "code",
   "execution_count": 21,
   "metadata": {},
   "outputs": [
    {
     "name": "stderr",
     "output_type": "stream",
     "text": [
      "[nltk_data] Downloading package wordnet to\n",
      "[nltk_data]     C:\\Users\\Thania\\AppData\\Roaming\\nltk_data...\n",
      "[nltk_data]   Package wordnet is already up-to-date!\n",
      "[nltk_data] Downloading package stopwords to\n",
      "[nltk_data]     C:\\Users\\Thania\\AppData\\Roaming\\nltk_data...\n",
      "[nltk_data]   Package stopwords is already up-to-date!\n"
     ]
    }
   ],
   "source": [
    "# Ensure nltk data is downloaded\n",
    "nltk.download('wordnet')\n",
    "nltk.download('stopwords')\n",
    "\n",
    "# %% [2] Define preprocessing functions\n",
    "lemmatizer = WordNetLemmatizer()\n",
    "stop_words = set(stopwords.words('english'))\n",
    "\n",
    "def preprocess_basic(tweet):\n",
    "    tweet = tweet.lower()\n",
    "    # Remove URLs\n",
    "    tweet = re.sub(r\"http\\S+|www\\S+|https\\S+\", '', tweet, flags=re.MULTILINE)\n",
    "    # Remove user mentions\n",
    "    tweet = re.sub(r'\\@\\w+|\\#', '', tweet)\n",
    "    # Remove special characters\n",
    "    tweet = re.sub(r'\\W', ' ', tweet)\n",
    "    # Remove digits\n",
    "    tweet = re.sub(r'\\d', ' ', tweet)\n",
    "\n",
    "    return tweet\n",
    "\n",
    "def preprocess_lemmatization(tweet):\n",
    "    preprocess_basic(tweet)\n",
    "    words = tweet.split()\n",
    "    words = [lemmatizer.lemmatize(word) for word in words if word not in stop_words and len(word) > 2]\n",
    "    return ' '.join(words)\n",
    "\n",
    "\n",
    "def preprocess_stemming(tweet):\n",
    "    preprocess_basic(tweet)\n",
    "    words = tweet.split()\n",
    "    words = [PorterStemmer().stem(word) for word in words if word not in stop_words and len(word) > 2]\n",
    "    return ' '.join(words)\n",
    "\n",
    "\n",
    "def preprocess_stopwords(tweet):\n",
    "    preprocess_basic(tweet)\n",
    "    words = tweet.split()\n",
    "    words = [word for word in words if word not in stop_words and len(word) > 2]\n",
    "    return ' '.join(words)\n",
    "\n",
    "\n",
    "def preprocess_extended(tweet):\n",
    "    tweet = preprocess_basic(tweet)\n",
    "    tweet = preprocess_lemmatization(tweet)\n",
    "    tweet = preprocess_stemming(tweet)\n",
    "    tweet = preprocess_stopwords(tweet)\n",
    "    return tweet\n",
    "\n",
    "\n",
    "\n",
    "PREPROCESSING_METHODS = [preprocess_basic, preprocess_lemmatization, preprocess_stemming, preprocess_stopwords, preprocess_extended]\n",
    "\n",
    "\n"
   ]
  },
  {
   "cell_type": "code",
   "execution_count": 22,
   "metadata": {},
   "outputs": [],
   "source": [
    "# Loading the dataset\n",
    "\n",
    "base_directory = 'CrisisLexT26-v1.0\\CrisisLexT26'  # Update with the path of your directory\n",
    "stop_words = set('english')  # Update with your list/set of stop words if you have any\n",
    "\n",
    "all_tweets_df = pd.DataFrame()\n",
    "# Load tweets from the folder structure and preprocess \n",
    "for folder_name in os.listdir(base_directory): \n",
    "    folder_path = os.path.join(base_directory, folder_name) \n",
    "    if os.path.isdir(folder_path): \n",
    "        tweets_csv_path = os.path.join(folder_path, f\"{folder_name}-tweets_labeled.csv\") \n",
    "         \n",
    "        if os.path.exists(tweets_csv_path):  \n",
    "            df = pd.read_csv(tweets_csv_path)  \n",
    "            df['Topic'] = folder_name  \n",
    "            all_tweets_df = pd.concat([all_tweets_df, df], ignore_index=True)\n",
    "\n",
    "relevant_info = ['Related - but not informative', 'Related and informative']\n",
    "all_tweets_df = all_tweets_df[all_tweets_df[' Informativeness'].isin(relevant_info)]\n",
    "\n",
    "      \n"
   ]
  },
  {
   "cell_type": "code",
   "execution_count": 23,
   "metadata": {},
   "outputs": [],
   "source": [
    "\n",
    "def cluster_data(all_tweets_df, n_clusters=20):\n",
    "    vectorizer = TfidfVectorizer(min_df=5, max_df=0.85, stop_words='english', ngram_range=(1, 2))\n",
    "    X = vectorizer.fit_transform(all_tweets_df['Processed_Tweet'].values)\n",
    "    kmeans = KMeans(n_clusters=n_clusters, random_state=0).fit(X)\n",
    "    all_tweets_df['predicted_label'] = kmeans.labels_\n",
    "\n",
    "    # Creating a mapping between true labels and predicted clusters\n",
    "    label_map = {}\n",
    "    for cluster in range(n_clusters):\n",
    "        sub_df = all_tweets_df[all_tweets_df['predicted_label'] == cluster]\n",
    "        if not sub_df.empty:\n",
    "            label_map[cluster] = sub_df['Topic'].value_counts().idxmax()\n",
    "    all_tweets_df['predicted_topic'] = all_tweets_df['predicted_label'].map(label_map)\n",
    "\n",
    "    return X, all_tweets_df\n"
   ]
  },
  {
   "cell_type": "code",
   "execution_count": 24,
   "metadata": {},
   "outputs": [
    {
     "name": "stdout",
     "output_type": "stream",
     "text": [
      "Using preprocessing method: preprocess_basic\n"
     ]
    },
    {
     "name": "stderr",
     "output_type": "stream",
     "text": [
      "c:\\Users\\Thania\\AppData\\Local\\Programs\\Python\\Python311\\Lib\\site-packages\\sklearn\\cluster\\_kmeans.py:1412: FutureWarning: The default value of `n_init` will change from 10 to 'auto' in 1.4. Set the value of `n_init` explicitly to suppress the warning\n",
      "  super()._check_params_vs_input(X, default_n_init=10)\n"
     ]
    },
    {
     "name": "stdout",
     "output_type": "stream",
     "text": [
      "Using preprocessing method: preprocess_lemmatization\n"
     ]
    },
    {
     "name": "stderr",
     "output_type": "stream",
     "text": [
      "c:\\Users\\Thania\\AppData\\Local\\Programs\\Python\\Python311\\Lib\\site-packages\\sklearn\\cluster\\_kmeans.py:1412: FutureWarning: The default value of `n_init` will change from 10 to 'auto' in 1.4. Set the value of `n_init` explicitly to suppress the warning\n",
      "  super()._check_params_vs_input(X, default_n_init=10)\n"
     ]
    },
    {
     "name": "stdout",
     "output_type": "stream",
     "text": [
      "Using preprocessing method: preprocess_stemming\n"
     ]
    },
    {
     "name": "stderr",
     "output_type": "stream",
     "text": [
      "c:\\Users\\Thania\\AppData\\Local\\Programs\\Python\\Python311\\Lib\\site-packages\\sklearn\\cluster\\_kmeans.py:1412: FutureWarning: The default value of `n_init` will change from 10 to 'auto' in 1.4. Set the value of `n_init` explicitly to suppress the warning\n",
      "  super()._check_params_vs_input(X, default_n_init=10)\n"
     ]
    },
    {
     "name": "stdout",
     "output_type": "stream",
     "text": [
      "Using preprocessing method: preprocess_stopwords\n"
     ]
    },
    {
     "name": "stderr",
     "output_type": "stream",
     "text": [
      "c:\\Users\\Thania\\AppData\\Local\\Programs\\Python\\Python311\\Lib\\site-packages\\sklearn\\cluster\\_kmeans.py:1412: FutureWarning: The default value of `n_init` will change from 10 to 'auto' in 1.4. Set the value of `n_init` explicitly to suppress the warning\n",
      "  super()._check_params_vs_input(X, default_n_init=10)\n"
     ]
    },
    {
     "name": "stdout",
     "output_type": "stream",
     "text": [
      "Using preprocessing method: preprocess_extended\n"
     ]
    },
    {
     "name": "stderr",
     "output_type": "stream",
     "text": [
      "c:\\Users\\Thania\\AppData\\Local\\Programs\\Python\\Python311\\Lib\\site-packages\\sklearn\\cluster\\_kmeans.py:1412: FutureWarning: The default value of `n_init` will change from 10 to 'auto' in 1.4. Set the value of `n_init` explicitly to suppress the warning\n",
      "  super()._check_params_vs_input(X, default_n_init=10)\n"
     ]
    }
   ],
   "source": [
    "\n",
    "results = {}\n",
    "\n",
    "\n",
    "for method in PREPROCESSING_METHODS:\n",
    "    print(f\"Using preprocessing method: {method.__name__}\")\n",
    "    \n",
    "    # Preprocess the data using the current method\n",
    "    all_tweets_df['Processed_Tweet'] = all_tweets_df[' Tweet Text'].apply(method)\n",
    "    \n",
    "    # Cluster the data and get X, all_tweets_df\n",
    "    X, all_tweets_df = cluster_data(all_tweets_df)\n",
    "    \n",
    "    # Evaluate and store results\n",
    "    accuracy = accuracy_score(all_tweets_df['Topic'], all_tweets_df['predicted_topic'])\n",
    "    ari = adjusted_rand_score(all_tweets_df['Topic'], all_tweets_df['predicted_topic'])\n",
    "    nmi = normalized_mutual_info_score(all_tweets_df['Topic'], all_tweets_df['predicted_topic'])\n",
    "    silhouette = silhouette_score(X, all_tweets_df['predicted_label'])\n",
    "    results[method.__name__] = {\n",
    "        \"Accuracy\": accuracy,\n",
    "        \"ARI\": ari,\n",
    "        \"NMI\": nmi,\n",
    "        \"Silhouette\": silhouette\n",
    "    }\n"
   ]
  },
  {
   "cell_type": "code",
   "execution_count": 25,
   "metadata": {},
   "outputs": [
    {
     "name": "stdout",
     "output_type": "stream",
     "text": [
      "Results for preprocess_basic:\n",
      "Accuracy: 51.78%\n",
      "ARI: 16.88%\n",
      "NMI: 64.14%\n",
      "Silhouette: 2.42%\n",
      "\n",
      "\n",
      "Results for preprocess_lemmatization:\n",
      "Accuracy: 50.21%\n",
      "ARI: 18.67%\n",
      "NMI: 63.75%\n",
      "Silhouette: 2.30%\n",
      "\n",
      "\n",
      "Results for preprocess_stemming:\n",
      "Accuracy: 50.10%\n",
      "ARI: 18.88%\n",
      "NMI: 61.87%\n",
      "Silhouette: 2.34%\n",
      "\n",
      "\n",
      "Results for preprocess_stopwords:\n",
      "Accuracy: 47.34%\n",
      "ARI: 19.43%\n",
      "NMI: 64.25%\n",
      "Silhouette: 2.40%\n",
      "\n",
      "\n",
      "Results for preprocess_extended:\n",
      "Accuracy: 49.60%\n",
      "ARI: 18.40%\n",
      "NMI: 62.96%\n",
      "Silhouette: 2.56%\n",
      "\n",
      "\n"
     ]
    }
   ],
   "source": [
    "\n",
    "for method, metrics in results.items():\n",
    "    print(f\"Results for {method}:\")\n",
    "    for metric_name, metric_value in metrics.items():\n",
    "        print(f\"{metric_name}: {metric_value*100:.2f}%\")\n",
    "    print(\"\\n\")\n",
    "\n",
    "    "
   ]
  },
  {
   "cell_type": "code",
   "execution_count": 26,
   "metadata": {},
   "outputs": [
    {
     "data": {
      "image/png": "[encoded data removed]",
      "text/plain": [
       "<Figure size 1000x500 with 1 Axes>"
      ]
     },
     "metadata": {},
     "output_type": "display_data"
    }
   ],
   "source": [
    "import matplotlib.pyplot as plt\n",
    "\n",
    "def determine_optimal_clusters(data):\n",
    "    wcss = []\n",
    "    max_clusters = 50 # I'm setting a limit, but you might want to increase or decrease based on your requirements\n",
    "    \n",
    "    for i in range(1, max_clusters):\n",
    "        kmeans = KMeans(n_clusters=i, init='k-means++', max_iter=300, n_init=10, random_state=0)\n",
    "        kmeans.fit(data)\n",
    "        wcss.append(kmeans.inertia_)\n",
    "        \n",
    "    plt.figure(figsize=(10,5))\n",
    "    plt.plot(range(1, max_clusters), wcss, marker='o', linestyle='--')\n",
    "    plt.title('Elbow Method')\n",
    "    plt.xlabel('Number of clusters')\n",
    "    plt.ylabel('WCSS')\n",
    "    plt.show()\n",
    "\n",
    "# Preprocessing using preprocess_stopwords as it provided the best result previously\n",
    "all_tweets_df['Processed_Tweet'] = all_tweets_df[' Tweet Text'].apply(preprocess_stopwords)\n",
    "all_tweets_df.dropna(subset=['Processed_Tweet'], inplace=True)\n",
    "\n",
    "vectorizer = TfidfVectorizer(min_df=5, max_df=0.9, stop_words='english', ngram_range=(1, 2))\n",
    "X = vectorizer.fit_transform(all_tweets_df['Processed_Tweet'].values)\n",
    "\n",
    "determine_optimal_clusters(X)\n",
    "\n",
    "\n"
   ]
  },
  {
   "cell_type": "code",
   "execution_count": 27,
   "metadata": {},
   "outputs": [],
   "source": [
    "from sklearn.feature_extraction.text import CountVectorizer\n",
    "from sklearn.decomposition import LatentDirichletAllocation\n",
    "from nltk.corpus import stopwords\n",
    "from gensim.corpora.dictionary import Dictionary\n",
    "from gensim.models.coherencemodel import CoherenceModel\n",
    "from nltk.tokenize import word_tokenize\n",
    "from gensim.models import LdaModel\n",
    "\n",
    "tokens = [word_tokenize(doc) for doc in all_tweets_df['Processed_Tweet']]\n",
    "tokens = [[word for word in doc if word not in stop_words] for doc in tokens]\n",
    "\n",
    "# Create Gensim dictionary\n",
    "dictionary = Dictionary(tokens)\n",
    "\n",
    "# Convert your tokenized texts to a bag-of-words format\n",
    "corpus = [dictionary.doc2bow(text) for text in tokens]\n",
    "\n",
    "vectorizer = TfidfVectorizer(min_df=5, max_df=0.9, stop_words='english', ngram_range=(1, 2))\n",
    "text_tfidf = vectorizer.fit_transform(all_tweets_df['Processed_Tweet'].values)\n",
    "\n",
    "\n",
    "lda_gensim = LdaModel(corpus, num_topics=26, id2word=dictionary, passes=15)\n",
    "\n",
    "lda = LatentDirichletAllocation(random_state=42)\n",
    "lda.fit(text_tfidf)\n",
    "\n",
    "# Print topics\n",
    "for index, topic in lda_gensim.print_topics(-1):\n",
    "    print(f\"Topic #{index + 1}\")\n",
    "    print(topic)\n",
    "\n",
    "\n"
   ]
  },
  {
   "cell_type": "code",
   "execution_count": null,
   "metadata": {},
   "outputs": [
    {
     "name": "stdout",
     "output_type": "stream",
     "text": [
      "Topic #1:\n",
      "colorado flooding springs colorado springs floods wildfire colorado floods colorado flooding http wildfires\n",
      "Topic #2:\n",
      "costa rica costa rica terremoto costa tsunami terremoto rica http alerta alerta tsunami quake\n",
      "Topic #3:\n",
      "bangladesh collapse building building collapse toll death death toll bangladesh building factory factory collapse\n",
      "Topic #4:\n",
      "brazil nightclub nightclub brazil praying affected sad hear sad tragedy praying brazil tragedy hear nightclub ddlovato sad\n",
      "Topic #5:\n",
      "new york new york york train train city derailed york city derailed new train derailed\n",
      "Topic #6:\n",
      "helicopter glasgow helicopter crash crash pub glasgow helicopter clutha police crash glasgow police helicopter\n",
      "Topic #7:\n",
      "tren santiago accidente compostela santiago compostela españa del accidente tren tren santiago tren españa\n",
      "Topic #8:\n",
      "typhoon haiyan philippines typhoon haiyan bopha typhoon bopha pablo typhoon pablo http super\n",
      "Topic #9:\n",
      "texas explosion plant fertilizer west fertilizer plant west texas plant explosion waco explosion texas\n",
      "Topic #10:\n",
      "amuay refinería refinería amuay amuay http explosión que los explosión refinería por http\n",
      "Topic #11:\n",
      "meteor russia russian russian meteor http russia http hit meteor russia shower meteor shower\n",
      "Topic #12:\n",
      "sardegna alluvione alluvione sardegna allertameteosar http sardegna http che non olbia forzasardegna\n",
      "Topic #13:\n",
      "lax shooting airport suspect lax shooting tsa los angeles angeles los shooter\n",
      "Topic #14:\n",
      "earthquake philippines magnitude magnitude earthquake hits quake earthquake hits philippines http guatemala italy\n",
      "Topic #15:\n",
      "sghaze psi singapore haze update stcom sghaze update neasg stcom sghaze channelnewsasia\n",
      "Topic #16:\n",
      "rescueph help reliefph need amp pls victims donate rescue hospital\n",
      "Topic #17:\n",
      "lac mégantic lac mégantic megantic lac megantic les http mégantic http pour des\n",
      "Topic #18:\n",
      "terremoto guatemala sismo por guatemala http muertos terremoto guatemala http por terremoto italia\n",
      "Topic #19:\n",
      "метеорит челябинск метеорит челябинск челябинске что челябинске http trj6b2qu метеорит упало челябинске самом деле деле упало\n",
      "Topic #20:\n",
      "boston marathon boston marathon bombing boston bombing marathon bombing explosions prayers suspect thoughts\n",
      "Topic #21:\n",
      "boate kiss boate kiss que incêndio santamaria santa santa maria maria incêndio boate\n",
      "Topic #22:\n",
      "train spain train crash crash spain train driver http crash spain quebec crash http\n",
      "Topic #23:\n",
      "derailment train derailment metro north metro north train nyc north train nyc train derailment http\n",
      "Topic #24:\n",
      "http yycflood nswfires flood bigwet australia abflood fires floods calgary\n",
      "Topic #25:\n",
      "prayforvisayas safe bohol cebu pray stay god prayforvisayas http stay safe prayers\n",
      "Topic #26:\n",
      "prayforboston prayforboston http prayfortexas world prayfortexas prayforboston people prayforboston prayfortexas really prayforwest sick\n"
     ]
    }
   ],
   "source": [
    "from sklearn.decomposition import NMF\n",
    "\n",
    "n_topics = 26\n",
    "\n",
    "# Apply NMF\n",
    "nmf = NMF(n_components=n_topics, random_state=42, l1_ratio=.5).fit(text_tfidf)\n",
    "\n",
    "# Print the topics\n",
    "feature_names = vectorizer.get_feature_names_out()\n",
    "for topic_idx, topic in enumerate(nmf.components_):\n",
    "    print(f\"Topic #{topic_idx + 1}:\")\n",
    "    print(\" \".join([feature_names[i] for i in topic.argsort()[:-10 - 1:-1]]))\n",
    "\n"
   ]
  },
  {
   "cell_type": "code",
   "execution_count": null,
   "metadata": {},
   "outputs": [
    {
     "name": "stdout",
     "output_type": "stream",
     "text": [
      "\n",
      "Coherence Score for LDA:  0.5457725002980869\n",
      "\n",
      "Coherence Score for NMF:  0.5272303823040813\n"
     ]
    }
   ],
   "source": [
    "from gensim.models.coherencemodel import CoherenceModel\n",
    "\n",
    "# Extract top words for each NMF topic\n",
    "top_words = []\n",
    "feature_names = vectorizer.get_feature_names_out()\n",
    "for topic in nmf.components_:\n",
    "    top_word_indices = topic.argsort()[-10:][::-1]  # You can change 10 to any other number\n",
    "    top_words.append([feature_names[i] for i in top_word_indices])\n",
    "\n",
    "# Compute coherence for NMF topics\n",
    "texts = tokens\n",
    "nmf_topics = [[dictionary.token2id[word] for word in topic if word in dictionary.token2id] for topic in top_words]\n",
    "\n",
    "# Compute Coherence Score\n",
    "coherence_model_lda = CoherenceModel(model=lda_gensim, texts=tokens, dictionary=dictionary, coherence='c_v')\n",
    "coherence_lda = coherence_model_lda.get_coherence()\n",
    "print('\\nCoherence Score for LDA: ', coherence_lda)\n",
    "\n",
    "coherence_model_nmf = CoherenceModel(topics=nmf_topics, texts=tokens, dictionary=dictionary, coherence='c_v')\n",
    "coherence_nmf = coherence_model_nmf.get_coherence()\n",
    "print('\\nCoherence Score for NMF: ', coherence_nmf)\n"
   ]
  }
 ],
 "metadata": {
  "kernelspec": {
   "display_name": "Python 3",
   "language": "python",
   "name": "python3"
  },
  "language_info": {
   "codemirror_mode": {
    "name": "ipython",
    "version": 3
   },
   "file_extension": ".py",
   "mimetype": "text/x-python",
   "name": "python",
   "nbconvert_exporter": "python",
   "pygments_lexer": "ipython3",
   "version": "3.11.0"
  },
  "orig_nbformat": 4
 },
 "nbformat": 4,
 "nbformat_minor": 2
}
