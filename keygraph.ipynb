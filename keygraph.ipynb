{
 "cells": [
  {
   "cell_type": "code",
   "execution_count": 1,
   "metadata": {},
   "outputs": [],
   "source": [
    "import os\n",
    "import json\n",
    "import networkx as nx\n",
    "import matplotlib.pyplot as plt\n",
    "import pandas as pd\n",
    "from sklearn.feature_extraction.text import CountVectorizer\n",
    "import itertools\n",
    "\n",
    "def apply_keygraph(text_data):\n",
    "    vectorizer = CountVectorizer(min_df=5)\n",
    "    term_document_matrix = vectorizer.fit_transform(text_data).toarray()\n",
    "    features = vectorizer.get_feature_names_out()\n",
    "    \n",
    "    co_occurrence_graph = nx.Graph()\n",
    "\n",
    "    # Get term co-occurrences\n",
    "    co_occurrences = (term_document_matrix.T @ term_document_matrix)\n",
    "    \n",
    "    for i, feature1 in enumerate(features):\n",
    "        for j, feature2 in enumerate(features):\n",
    "            if i != j:  # Avoid self-loops\n",
    "                weight = co_occurrences[i, j]\n",
    "                if weight > 0:\n",
    "                    co_occurrence_graph.add_edge(feature1, feature2, weight=weight)\n",
    "                \n",
    "    return co_occurrence_graph\n",
    "\n",
    "# Initialize an empty list to collect all text data\n",
    "all_text_data = []\n",
    "\n",
    "base_directory = \"CrisisLexT26-v1.0\\CrisisLexT26\"\n",
    "\n",
    "for folder_name in os.listdir(base_directory):\n",
    "    folder_path = os.path.join(base_directory, folder_name)\n",
    "    if os.path.isdir(folder_path):\n",
    "        json_file_path = os.path.join(folder_path, f\"{folder_name}-event_description.json\")\n",
    "        \n",
    "        # Read the JSON file\n",
    "        with open(json_file_path, 'r', encoding='utf-8') as f:\n",
    "            event_data = json.load(f)\n",
    "        \n",
    "        # Assuming tweets are stored in a CSV file within each folder\n",
    "        tweets_csv_path = os.path.join(folder_path, f\"{folder_name}-tweets_labeled.csv\")\n",
    "        \n",
    "        # Read the CSV file\n",
    "        df = pd.read_csv(tweets_csv_path)\n",
    "        \n",
    "        df = df[df[' Informativeness'].isin(['Related - but not informative', 'Related and informative'])]\n",
    "\n",
    "        # Filter the DataFrame to get the relevant tweets\n",
    "        text_data = df[' Tweet Text'].values\n",
    "        \n",
    "        \n",
    "        # Add to all_text_data\n",
    "        all_text_data.extend(text_data)\n",
    "\n",
    "# Apply KeyGraph algorithm to all the text data\n",
    "G = apply_keygraph(all_text_data)\n",
    "\n",
    "# You can plot the graph using NetworkX and matplotlib\n",
    "plt.figure(figsize=(10, 6))\n",
    "pos = nx.spring_layout(G)\n",
    "nx.draw_networkx_nodes(G, pos, node_size=3000)\n",
    "nx.draw_networkx_edges(G, pos)\n",
    "nx.draw_networkx_labels(G, pos, font_size=10)\n",
    "plt.title(\"Keygraph based on Co-occurrence of Words\")\n",
    "plt.show()\n"
   ]
  },
  {
   "cell_type": "code",
   "execution_count": null,
   "metadata": {},
   "outputs": [],
   "source": []
  },
  {
   "cell_type": "code",
   "execution_count": 1,
   "metadata": {},
   "outputs": [
    {
     "ename": "NameError",
     "evalue": "name 'apply_keygraph' is not defined",
     "output_type": "error",
     "traceback": [
      "\u001b[1;31m---------------------------------------------------------------------------\u001b[0m",
      "\u001b[1;31mNameError\u001b[0m                                 Traceback (most recent call last)",
      "\u001b[1;32mc:\\Users\\Thania\\PycharmProjects\\eventDetector\\keygraph.ipynb Cell 3\u001b[0m in \u001b[0;36m1\n\u001b[1;32m----> <a href='vscode-notebook-cell:/c%3A/Users/Thania/PycharmProjects/eventDetector/keygraph.ipynb#W1sZmlsZQ%3D%3D?line=0'>1</a>\u001b[0m topics_or_keywords \u001b[39m=\u001b[39m apply_keygraph(all_text_data)\n",
      "\u001b[1;31mNameError\u001b[0m: name 'apply_keygraph' is not defined"
     ]
    }
   ],
   "source": [
    "topics_or_keywords = apply_keygraph(all_text_data)\n"
   ]
  }
 ],
 "metadata": {
  "kernelspec": {
   "display_name": "Python 3",
   "language": "python",
   "name": "python3"
  },
  "language_info": {
   "codemirror_mode": {
    "name": "ipython",
    "version": 3
   },
   "file_extension": ".py",
   "mimetype": "text/x-python",
   "name": "python",
   "nbconvert_exporter": "python",
   "pygments_lexer": "ipython3",
   "version": "3.11.0"
  },
  "orig_nbformat": 4
 },
 "nbformat": 4,
 "nbformat_minor": 2
}
